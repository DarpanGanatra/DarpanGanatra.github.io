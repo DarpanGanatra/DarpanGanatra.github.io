{
 "cells": [
  {
   "cell_type": "raw",
   "id": "fa3536d2-443f-4f5a-a0bd-474cd911ba97",
   "metadata": {
    "tags": []
   },
   "source": [
    "---\n",
    "title: TensorFlow Refrence\n",
    "subtitle: Self-explanatory. I'll add the places I used here d2l.ai\n",
    "date: 2022-06-13\n",
    "author: Darpan Ganatra\n",
    "categories: [jupyter, python, tensorflow]\n",
    "draft: true\n",
    "format:\n",
    "  html: \n",
    "    code-fold: false\n",
    "---"
   ]
  },
  {
   "cell_type": "code",
   "execution_count": 1,
   "id": "f5c64a4e-9d57-4cdb-bf7f-b01c2dfbaad9",
   "metadata": {},
   "outputs": [],
   "source": [
    "import tensorflow as tf"
   ]
  },
  {
   "cell_type": "markdown",
   "id": "b242efb3-b1aa-4d25-af94-34954cf8ece5",
   "metadata": {
    "tags": []
   },
   "source": [
    "# Creating a tensor\n",
    "\n",
    "You should always assign the `dtype` when creating a tensor."
   ]
  },
  {
   "cell_type": "code",
   "execution_count": 5,
   "id": "2595792d-fb77-4e42-b9eb-35e47346a0c0",
   "metadata": {},
   "outputs": [],
   "source": [
    "x = tf.range(start=12, dtype=tf.float32)"
   ]
  },
  {
   "cell_type": "markdown",
   "id": "6992f6b0-8f50-4f36-ac1b-9b066498ffc7",
   "metadata": {},
   "source": [
    "## Tensor Attributes"
   ]
  },
  {
   "cell_type": "markdown",
   "id": "f17b9798-92fe-43c7-8976-9ddac2a23c07",
   "metadata": {},
   "source": [
    "### Tensor Shape"
   ]
  },
  {
   "cell_type": "code",
   "execution_count": 7,
   "id": "8c297c0e-8e22-4379-a8a1-a4b8b852e479",
   "metadata": {},
   "outputs": [
    {
     "data": {
      "text/plain": [
       "TensorShape([12])"
      ]
     },
     "execution_count": 7,
     "metadata": {},
     "output_type": "execute_result"
    }
   ],
   "source": [
    "x.shape"
   ]
  },
  {
   "cell_type": "code",
   "execution_count": 9,
   "id": "03cf6014-9ada-4fc0-a373-01a9dd72c2e7",
   "metadata": {},
   "outputs": [
    {
     "data": {
      "text/plain": [
       "<tf.Tensor: shape=(), dtype=int32, numpy=12>"
      ]
     },
     "execution_count": 9,
     "metadata": {},
     "output_type": "execute_result"
    }
   ],
   "source": [
    "tf.size(x)"
   ]
  },
  {
   "cell_type": "markdown",
   "id": "bbd867da-3550-47e2-a37b-16319b778095",
   "metadata": {},
   "source": [
    "### Tensor Data Type"
   ]
  },
  {
   "cell_type": "code",
   "execution_count": 12,
   "id": "0d199b71-1c84-4149-8797-6d60419b9319",
   "metadata": {},
   "outputs": [
    {
     "data": {
      "text/plain": [
       "tf.float32"
      ]
     },
     "execution_count": 12,
     "metadata": {},
     "output_type": "execute_result"
    }
   ],
   "source": [
    "x.dtype"
   ]
  },
  {
   "cell_type": "markdown",
   "id": "9d6a23f0-3b5a-473d-bedd-77f45d733ad3",
   "metadata": {},
   "source": [
    "## Changing a Tensor\n",
    "\n",
    "Use `tf.reshape`\n",
    "\n",
    "- Will accept the tensor, and the shape, with the shape in the form of: `(# of rows, # of columns)`\n",
    "- If you know all but one of the dimensions, you can leave the unknown dimension as `-1`: `(# of rows, -1)`"
   ]
  },
  {
   "cell_type": "code",
   "execution_count": 16,
   "id": "ab06168b-6aea-4db8-8af9-ca55d29038d5",
   "metadata": {},
   "outputs": [
    {
     "name": "stdout",
     "output_type": "stream",
     "text": [
      "tf.Tensor([ 0.  1.  2.  3.  4.  5.  6.  7.  8.  9. 10. 11.], shape=(12,), dtype=float32)\n"
     ]
    }
   ],
   "source": [
    "print(x)"
   ]
  },
  {
   "cell_type": "markdown",
   "id": "fd33e781-1997-40cb-947d-bde1a50c929b",
   "metadata": {},
   "source": [
    "Here I'm explcitly defining the reshaping as (3,4)"
   ]
  },
  {
   "cell_type": "code",
   "execution_count": 17,
   "id": "469d2398-9e59-4e5f-bd19-0ae0e1d99804",
   "metadata": {},
   "outputs": [
    {
     "name": "stdout",
     "output_type": "stream",
     "text": [
      "tf.Tensor(\n",
      "[[ 0.  1.  2.  3.]\n",
      " [ 4.  5.  6.  7.]\n",
      " [ 8.  9. 10. 11.]], shape=(3, 4), dtype=float32)\n"
     ]
    }
   ],
   "source": [
    "print(tf.reshape(x, shape=(3, 4)))"
   ]
  },
  {
   "cell_type": "markdown",
   "id": "b84e959c-172a-45e5-955d-933b339a7f44",
   "metadata": {},
   "source": [
    "Here I left the column number blank, and it filled in automatically:"
   ]
  },
  {
   "cell_type": "code",
   "execution_count": 18,
   "id": "a20213a0-6ae9-4a33-b6ab-7c738f1807cd",
   "metadata": {},
   "outputs": [
    {
     "name": "stdout",
     "output_type": "stream",
     "text": [
      "tf.Tensor(\n",
      "[[ 0.  1.  2.  3.]\n",
      " [ 4.  5.  6.  7.]\n",
      " [ 8.  9. 10. 11.]], shape=(3, 4), dtype=float32)\n"
     ]
    }
   ],
   "source": [
    "print(tf.reshape(x, shape=(3, -1)))"
   ]
  },
  {
   "cell_type": "markdown",
   "id": "71e67699-d1ed-4dcf-9e5e-f316a48e8bf1",
   "metadata": {},
   "source": [
    "## Ones, Random, Constant Tensor"
   ]
  },
  {
   "cell_type": "code",
   "execution_count": 21,
   "id": "771f90e0-06a4-4775-abc6-31ffd0b97caa",
   "metadata": {},
   "outputs": [
    {
     "name": "stdout",
     "output_type": "stream",
     "text": [
      "tf.Tensor(\n",
      "[[1. 1. 1. 1.]\n",
      " [1. 1. 1. 1.]\n",
      " [1. 1. 1. 1.]], shape=(3, 4), dtype=float32)\n"
     ]
    }
   ],
   "source": [
    "print(tf.ones(shape=(3, 4)))"
   ]
  },
  {
   "cell_type": "markdown",
   "id": "c0dbfbfb-5544-47ba-8677-15232bdaf5c9",
   "metadata": {},
   "source": [
    "Keep in mind you can change a lot of parameters w.r.t. $\\mu, \\sigma, $ etc. since this is a random normal distribution. There are more distributions as well if need be."
   ]
  },
  {
   "cell_type": "code",
   "execution_count": 22,
   "id": "432dcc25-b3fb-4e02-b565-aa558b7e1ddb",
   "metadata": {},
   "outputs": [
    {
     "name": "stdout",
     "output_type": "stream",
     "text": [
      "tf.Tensor(\n",
      "[[ 2.202327   -0.26792583 -0.74406874 -0.6372847 ]\n",
      " [ 0.46985132 -0.3888988   0.47005928  0.08380948]\n",
      " [-0.6244405   0.47245353 -1.8344202  -1.2178894 ]], shape=(3, 4), dtype=float32)\n"
     ]
    }
   ],
   "source": [
    "print(tf.random.normal(shape=(3, 4)))"
   ]
  },
  {
   "cell_type": "code",
   "execution_count": 24,
   "id": "a7b4925c-3be1-4d21-be0a-ebbfae581e48",
   "metadata": {},
   "outputs": [
    {
     "name": "stdout",
     "output_type": "stream",
     "text": [
      "tf.Tensor(\n",
      "[[1 2 3]\n",
      " [4 5 6]], shape=(2, 3), dtype=int32)\n"
     ]
    }
   ],
   "source": [
    "print(tf.constant([[1, 2, 3], [4, 5, 6]]))"
   ]
  },
  {
   "cell_type": "markdown",
   "id": "5f8dcc34-1431-4ddf-918c-261c2b1eb9bf",
   "metadata": {},
   "source": [
    "# Tensor Operations\n",
    "\n",
    "These operations are performed *__elementwise__*:\n",
    "- Addition\n",
    "- Subtraction\n",
    "- Multiplication\n",
    "- Division\n",
    "- Exponentiation\n",
    "\n",
    "Definition of elementwise in this context:\n",
    "\n",
    "Given vectors $x$ and $y$, an elementwise operation (for example addition) will be performed between each corresponding element in the given vectors: \n",
    "\n",
    "If:\n",
    "\n",
    "- $\\bar{x} := [x_1, \\dots , x_n]$\n",
    "- $\\bar{y} := [y_1, \\dots, y_n]$ \n",
    "\n",
    "then:\n",
    "\n",
    "$$\n",
    "\\begin{aligned}\n",
    "\\bar{x} + \\bar{y} &= \\begin{bmatrix}\n",
    "            x_1 + y_1 \\\\ \n",
    "            x_2 + y_2 \\\\\n",
    "            \\vdots \\\\\n",
    "            x_n + y_n\n",
    "\\end{bmatrix}\n",
    "\\end{aligned}\n",
    "$$\n",
    "\n",
    "Example:"
   ]
  },
  {
   "cell_type": "code",
   "execution_count": 25,
   "id": "ae29c00f-80e8-4d6f-b524-2fe9b053524f",
   "metadata": {},
   "outputs": [],
   "source": [
    "x = tf.constant([1, 2, 4, 8])\n",
    "y = tf.constant([2, 2, 2, 2])"
   ]
  },
  {
   "cell_type": "markdown",
   "id": "117e12b5-a140-47c8-8480-72459c782dbb",
   "metadata": {},
   "source": [
    "Addition:"
   ]
  },
  {
   "cell_type": "code",
   "execution_count": 27,
   "id": "78b1cbdb-d698-4e5d-af53-bd58b9ceb37b",
   "metadata": {},
   "outputs": [
    {
     "name": "stdout",
     "output_type": "stream",
     "text": [
      "tf.Tensor([ 3  4  6 10], shape=(4,), dtype=int32)\n"
     ]
    }
   ],
   "source": [
    "print(x + y)"
   ]
  },
  {
   "cell_type": "markdown",
   "id": "190050e3-fc4f-4774-8c87-d1d7c71ce03f",
   "metadata": {},
   "source": [
    "Subtraction"
   ]
  },
  {
   "cell_type": "code",
   "execution_count": 28,
   "id": "93596dfd-5751-4420-89c7-e81ccb7fc263",
   "metadata": {},
   "outputs": [
    {
     "name": "stdout",
     "output_type": "stream",
     "text": [
      "tf.Tensor([-1  0  2  6], shape=(4,), dtype=int32)\n"
     ]
    }
   ],
   "source": [
    "print(x - y)"
   ]
  },
  {
   "cell_type": "markdown",
   "id": "33938aa6-0045-4ef5-bf54-4d516416c12f",
   "metadata": {},
   "source": [
    "Multiplication"
   ]
  },
  {
   "cell_type": "code",
   "execution_count": 29,
   "id": "e397edca-725d-4e8c-850b-90a5a7dfd6d7",
   "metadata": {},
   "outputs": [
    {
     "name": "stdout",
     "output_type": "stream",
     "text": [
      "tf.Tensor([ 2  4  8 16], shape=(4,), dtype=int32)\n"
     ]
    }
   ],
   "source": [
    "print(x * y)"
   ]
  },
  {
   "cell_type": "markdown",
   "id": "405b6a46-5417-4593-9549-c7779307f64a",
   "metadata": {},
   "source": [
    "Division"
   ]
  },
  {
   "cell_type": "code",
   "execution_count": 30,
   "id": "e65fa479-3164-4e35-a1ed-7406cf31e60a",
   "metadata": {},
   "outputs": [
    {
     "name": "stdout",
     "output_type": "stream",
     "text": [
      "tf.Tensor([0.5 1.  2.  4. ], shape=(4,), dtype=float64)\n"
     ]
    }
   ],
   "source": [
    "print(x / y)"
   ]
  },
  {
   "cell_type": "markdown",
   "id": "ccd3b1c2-95d9-4323-b1a8-3cde88bddd52",
   "metadata": {},
   "source": [
    "Exponentiation"
   ]
  },
  {
   "cell_type": "code",
   "execution_count": 31,
   "id": "30ea6599-0060-42c4-a9a8-27686cb09969",
   "metadata": {},
   "outputs": [
    {
     "name": "stdout",
     "output_type": "stream",
     "text": [
      "tf.Tensor([ 1  4 16 64], shape=(4,), dtype=int32)\n"
     ]
    }
   ],
   "source": [
    "print(x ** y)"
   ]
  },
  {
   "cell_type": "markdown",
   "id": "721cfc15-415f-48cd-b0e6-6879bed0f4af",
   "metadata": {},
   "source": [
    "## Dot Product\n",
    "\n",
    "If:\n",
    "\n",
    "- $\\bar{x} := [x_1, \\dots , x_n]$\n",
    "- $\\bar{y} := [y_1, \\dots, y_n]$ \n",
    "\n",
    "Then the dot product ($\\bullet$) is defined:\n",
    "\n",
    "$$\n",
    "\\bar{x} \\bullet \\bar{y} = \\sum_{i=1}^{n} x_i \\cdot y_i\n",
    "$$"
   ]
  },
  {
   "cell_type": "code",
   "execution_count": 33,
   "id": "2612dba4-bb73-4754-ae47-a8b856d74b3f",
   "metadata": {},
   "outputs": [
    {
     "data": {
      "text/plain": [
       "<tf.Tensor: shape=(), dtype=int32, numpy=48>"
      ]
     },
     "execution_count": 33,
     "metadata": {},
     "output_type": "execute_result"
    }
   ],
   "source": [
    "tf.tensordot(tf.constant([1, 2, 3]), tf.constant([8, 8, 8]), axes=1)"
   ]
  },
  {
   "cell_type": "markdown",
   "id": "8fc774d3-0400-4604-9a2d-35587fa48916",
   "metadata": {},
   "source": [
    "## Broadcasting\n",
    "\n",
    "Look at the explanation [NumPy provides](https://numpy.org/doc/stable/user/basics.broadcasting.html)"
   ]
  },
  {
   "cell_type": "code",
   "execution_count": 60,
   "id": "8606184b-5ecb-4845-b41a-e9f4876793a9",
   "metadata": {},
   "outputs": [
    {
     "name": "stdout",
     "output_type": "stream",
     "text": [
      "================= Matrix of shape 3x4 =================\n",
      "[[ 0  1  2  3]\n",
      " [ 4  5  6  7]\n",
      " [ 8  9 10 11]] \n",
      "\n",
      "================= Vector of shape 1x3 =================\n",
      "[0 1 2 3]\n",
      "================== Sum of shape 3x4 ===================\n",
      "[[ 0  2  4  6]\n",
      " [ 4  6  8 10]\n",
      " [ 8 10 12 14]]\n"
     ]
    }
   ],
   "source": [
    "x = tf.reshape(tf.range(start=12), shape=(3, 4))\n",
    "y = tf.range(start=4)\n",
    "\n",
    "print(\"================= Matrix of shape 3x4 =================\")\n",
    "print(x.numpy(), \"\\n\")\n",
    "print(\"================= Vector of shape 1x3 =================\")\n",
    "print(y.numpy())\n",
    "\n",
    "print(\"================== Sum of shape 3x4 ===================\")\n",
    "print(tf.math.add(x, y).numpy())"
   ]
  },
  {
   "cell_type": "code",
   "execution_count": null,
   "id": "de7fbcbe-349a-42f6-93c7-82f1eb14da12",
   "metadata": {},
   "outputs": [],
   "source": []
  }
 ],
 "metadata": {
  "kernelspec": {
   "display_name": "Python 3.9.12 64-bit",
   "language": "python",
   "name": "python3"
  },
  "language_info": {
   "codemirror_mode": {
    "name": "ipython",
    "version": 3
   },
   "file_extension": ".py",
   "mimetype": "text/x-python",
   "name": "python",
   "nbconvert_exporter": "python",
   "pygments_lexer": "ipython3",
   "version": "3.9.12"
  },
  "vscode": {
   "interpreter": {
    "hash": "aee8b7b246df8f9039afb4144a1f6fd8d2ca17a180786b69acc140d282b71a49"
   }
  }
 },
 "nbformat": 4,
 "nbformat_minor": 5
}
